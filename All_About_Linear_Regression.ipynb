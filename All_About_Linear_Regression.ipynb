{
 "cells": [
  {
   "cell_type": "markdown",
   "id": "a92cde8a",
   "metadata": {},
   "source": [
    "# All About Linear Regression"
   ]
  },
  {
   "cell_type": "markdown",
   "id": "6c54260d",
   "metadata": {},
   "source": [
    "This is the first article in the on-going series of \"All About...\""
   ]
  },
  {
   "cell_type": "markdown",
   "id": "97364011",
   "metadata": {},
   "source": [
    "In this article we will explore Linear Regression and try to answer the following question:\n",
    "\n",
    "-> What is Linear Regression?\n",
    "\n",
    "-> Why Linear Regression?\n",
    "\n",
    "-> When Linear Regression?\n",
    "\n",
    "-> How Linear Regression?"
   ]
  },
  {
   "cell_type": "markdown",
   "id": "0adcbdd8",
   "metadata": {},
   "source": [
    "# What is Linear Regression?"
   ]
  },
  {
   "cell_type": "markdown",
   "id": "cc615f56",
   "metadata": {},
   "source": [
    "To answer the above question, we have to know about the term \"Regression\". Regression means a process in the machine learning domain in which we try to find the outcome(i.e. dependent variable) with the help of predictors(i.e. independent variables) by estimating some kind of relationship."
   ]
  },
  {
   "cell_type": "markdown",
   "id": "9984e801",
   "metadata": {},
   "source": [
    "So, Linear"
   ]
  },
  {
   "cell_type": "markdown",
   "id": "8b5e3209",
   "metadata": {},
   "source": []
  },
  {
   "cell_type": "markdown",
   "id": "b4df2f95",
   "metadata": {},
   "source": []
  },
  {
   "cell_type": "code",
   "execution_count": 1,
   "id": "27474c12",
   "metadata": {},
   "outputs": [],
   "source": [
    "# Import all the necessery packages for this Post.\n",
    "\n",
    "import pandas as pd\n",
    "import numpy as np\n",
    "import matplotlib.pyplot as plt\n",
    "%matplotlib inline"
   ]
  },
  {
   "cell_type": "code",
   "execution_count": null,
   "id": "f72faf97",
   "metadata": {},
   "outputs": [],
   "source": []
  },
  {
   "cell_type": "code",
   "execution_count": 6,
   "id": "242d5624",
   "metadata": {},
   "outputs": [
    {
     "data": {
      "text/plain": [
       "Text(0, 0.5, 'Weight')"
      ]
     },
     "execution_count": 6,
     "metadata": {},
     "output_type": "execute_result"
    },
    {
     "data": {
      "image/png": "[encoded data removed]",
      "text/plain": [
       "<Figure size 432x288 with 1 Axes>"
      ]
     },
     "metadata": {
      "needs_background": "light"
     },
     "output_type": "display_data"
    }
   ],
   "source": [
    "x = [1200,1400,1700,2000,2500]\n",
    "y = [15,16,20,21,25]\n",
    "\n",
    "plt.scatter(x,y)\n",
    "plt.plot([1200,2500],[15,25], color=\"red\")\n",
    "plt.xlabel(\"Calories\")\n",
    "plt.ylabel(\"Weight\")"
   ]
  },
  {
   "cell_type": "code",
   "execution_count": 2,
   "id": "8423d78d",
   "metadata": {},
   "outputs": [],
   "source": [
    "# Creating a dummy data\n",
    "\n",
    "x = np.random.randint(1,100, 50)\n",
    "slope = 5\n",
    "y = x*slope + 4+ np.random.randint(1,100, 50)"
   ]
  },
  {
   "cell_type": "code",
   "execution_count": 10,
   "id": "2578fd25",
   "metadata": {},
   "outputs": [
    {
     "data": {
      "text/plain": [
       "Text(0, 0.5, 'y')"
      ]
     },
     "execution_count": 10,
     "metadata": {},
     "output_type": "execute_result"
    },
    {
     "data": {
      "image/png": "[encoded data removed]",
      "text/plain": [
       "<Figure size 432x288 with 1 Axes>"
      ]
     },
     "metadata": {
      "needs_background": "light"
     },
     "output_type": "display_data"
    }
   ],
   "source": [
    "# Plotting the data for better visulization\n",
    "\n",
    "plt.scatter(x,y)\n",
    "plt.xlabel(\"x\",fontsize=20)\n",
    "plt.ylabel(\"y\", fontsize=20)"
   ]
  },
  {
   "cell_type": "code",
   "execution_count": null,
   "id": "ff1623bd",
   "metadata": {},
   "outputs": [],
   "source": []
  },
  {
   "cell_type": "code",
   "execution_count": 143,
   "id": "792c9371",
   "metadata": {},
   "outputs": [],
   "source": []
  },
  {
   "cell_type": "code",
   "execution_count": 13,
   "id": "b8e4d70b",
   "metadata": {},
   "outputs": [],
   "source": [
    "def cost_funtion(y_pre, y):\n",
    "    \n",
    "    \"\"\" This function helps to calculate 'Mean Squre Error' \"\"\"\n",
    "    s= sum(y - y_pre)**2\n",
    "    return s/len(y)\n",
    "\n",
    "\n",
    "def gradient(epochs, alpha, x, y, m=0, c=0):\n",
    "    \n",
    "    \"\"\" This function calculate the slope 'm' and intercept 'c' \n",
    "        using Gradient Descent \"\"\"\n",
    "    n = len(x)\n",
    "    for i in range(epochs):\n",
    "        Y_pred = m*x + c  # Predicting y \n",
    "        dm = sum(x * (y - Y_pred))  # Derivative wrt slope\n",
    "        dc = sum(y - Y_pred)  # Derivative wrt intercept\n",
    "        m -= alpha * (-2/n) *  dm  # Update slope\n",
    "        c -= alpha * (-2/n) *  dc  # Update intercept\n",
    "        if i%10000 ==0:\n",
    "            print(\"Error in the prediction (cost Function): \", cost_funtion(Y_pred, y))\n",
    "    return m, c\n",
    "    "
   ]
  },
  {
   "cell_type": "code",
   "execution_count": 14,
   "id": "933956f7",
   "metadata": {
    "scrolled": false
   },
   "outputs": [
    {
     "name": "stdout",
     "output_type": "stream",
     "text": [
      "Error in the prediction (cost Function):  4033936.08\n",
      "Error in the prediction (cost Function):  5201.877839979695\n",
      "Error in the prediction (cost Function):  1522.5375441228616\n",
      "Error in the prediction (cost Function):  445.63149012216775\n",
      "Error in the prediction (cost Function):  130.43187391672362\n",
      "Error in the prediction (cost Function):  38.17610314918163\n",
      "Error in the prediction (cost Function):  11.173763037303845\n",
      "Error in the prediction (cost Function):  3.2704485296969596\n",
      "Error in the prediction (cost Function):  0.9572275293199248\n",
      "Error in the prediction (cost Function):  0.2801709106768284\n",
      "Error in the prediction (cost Function):  0.08200321949120236\n",
      "Error in the prediction (cost Function):  0.024001521038136152\n",
      "Error in the prediction (cost Function):  0.0070250048196210365\n"
     ]
    }
   ],
   "source": [
    "slope, intercept = gradient(130000, 0.0001, x, y)\n"
   ]
  },
  {
   "cell_type": "code",
   "execution_count": 17,
   "id": "b3153d3a",
   "metadata": {},
   "outputs": [
    {
     "data": {
      "text/plain": [
       "Text(0, 0.5, 'y')"
      ]
     },
     "execution_count": 17,
     "metadata": {},
     "output_type": "execute_result"
    },
    {
     "data": {
      "image/png": "[encoded data removed]",
      "text/plain": [
       "<Figure size 432x288 with 1 Axes>"
      ]
     },
     "metadata": {
      "needs_background": "light"
     },
     "output_type": "display_data"
    }
   ],
   "source": [
    "# Predicting the values of y using the estimated slope and intercept\n",
    "Y_pre = slope*x + intercept\n",
    "\n",
    "plt.scatter(x,y)\n",
    "plt.plot([min(x),max(x)],[min(Y_pre),max(Y_pre)], color=\"red\")\n",
    "plt.xlabel(\"x\",fontsize=20)\n",
    "plt.ylabel(\"y\", fontsize=20)"
   ]
  },
  {
   "cell_type": "code",
   "execution_count": 16,
   "id": "47498a05",
   "metadata": {},
   "outputs": [
    {
     "name": "stdout",
     "output_type": "stream",
     "text": [
      "4.9440710898173 61.45150681695299\n"
     ]
    }
   ],
   "source": [
    "print(slope, intercept)"
   ]
  },
  {
   "cell_type": "code",
   "execution_count": null,
   "id": "bda941f4",
   "metadata": {},
   "outputs": [],
   "source": []
  }
 ],
 "metadata": {
  "kernelspec": {
   "display_name": "Python 3 (ipykernel)",
   "language": "python",
   "name": "python3"
  },
  "language_info": {
   "codemirror_mode": {
    "name": "ipython",
    "version": 3
   },
   "file_extension": ".py",
   "mimetype": "text/x-python",
   "name": "python",
   "nbconvert_exporter": "python",
   "pygments_lexer": "ipython3",
   "version": "3.9.7"
  }
 },
 "nbformat": 4,
 "nbformat_minor": 5
}
