{
 "cells": [
  {
   "cell_type": "markdown",
   "id": "6cbd0ec9",
   "metadata": {},
   "source": [
    "# All About Logistic Regression"
   ]
  },
  {
   "cell_type": "code",
   "execution_count": 16,
   "id": "94ff91cc",
   "metadata": {},
   "outputs": [],
   "source": [
    "import pandas as pd\n",
    "import numpy as np\n",
    "import matplotlib.pyplot as plt\n",
    "from sklearn.datasets import load_iris\n",
    "import seaborn as sb\n",
    "from sklearn.linear_model import LinearRegression, LogisticRegression\n",
    "%matplotlib inline"
   ]
  },
  {
   "cell_type": "code",
   "execution_count": 2,
   "id": "3d5977a4",
   "metadata": {},
   "outputs": [],
   "source": [
    "data = load_iris()"
   ]
  },
  {
   "cell_type": "code",
   "execution_count": 3,
   "id": "30679e00",
   "metadata": {},
   "outputs": [
    {
     "data": {
      "text/plain": [
       "['sepal length (cm)',\n",
       " 'sepal width (cm)',\n",
       " 'petal length (cm)',\n",
       " 'petal width (cm)']"
      ]
     },
     "execution_count": 3,
     "metadata": {},
     "output_type": "execute_result"
    }
   ],
   "source": [
    "data.feature_names"
   ]
  },
  {
   "cell_type": "code",
   "execution_count": 4,
   "id": "16650b07",
   "metadata": {},
   "outputs": [
    {
     "data": {
      "text/plain": [
       "array(['setosa', 'versicolor', 'virginica'], dtype='<U10')"
      ]
     },
     "execution_count": 4,
     "metadata": {},
     "output_type": "execute_result"
    }
   ],
   "source": [
    "data.target_names"
   ]
  },
  {
   "cell_type": "code",
   "execution_count": 87,
   "id": "e8c60e65",
   "metadata": {},
   "outputs": [
    {
     "data": {
      "text/html": [
       "<div>\n",
       "<style scoped>\n",
       "    .dataframe tbody tr th:only-of-type {\n",
       "        vertical-align: middle;\n",
       "    }\n",
       "\n",
       "    .dataframe tbody tr th {\n",
       "        vertical-align: top;\n",
       "    }\n",
       "\n",
       "    .dataframe thead th {\n",
       "        text-align: right;\n",
       "    }\n",
       "</style>\n",
       "<table border=\"1\" class=\"dataframe\">\n",
       "  <thead>\n",
       "    <tr style=\"text-align: right;\">\n",
       "      <th></th>\n",
       "      <th>petal width (cm)</th>\n",
       "      <th>Species</th>\n",
       "    </tr>\n",
       "  </thead>\n",
       "  <tbody>\n",
       "    <tr>\n",
       "      <th>0</th>\n",
       "      <td>0.2</td>\n",
       "      <td>0.0</td>\n",
       "    </tr>\n",
       "    <tr>\n",
       "      <th>1</th>\n",
       "      <td>0.2</td>\n",
       "      <td>0.0</td>\n",
       "    </tr>\n",
       "    <tr>\n",
       "      <th>2</th>\n",
       "      <td>0.2</td>\n",
       "      <td>0.0</td>\n",
       "    </tr>\n",
       "    <tr>\n",
       "      <th>3</th>\n",
       "      <td>0.2</td>\n",
       "      <td>0.0</td>\n",
       "    </tr>\n",
       "    <tr>\n",
       "      <th>4</th>\n",
       "      <td>0.2</td>\n",
       "      <td>0.0</td>\n",
       "    </tr>\n",
       "    <tr>\n",
       "      <th>...</th>\n",
       "      <td>...</td>\n",
       "      <td>...</td>\n",
       "    </tr>\n",
       "    <tr>\n",
       "      <th>95</th>\n",
       "      <td>1.2</td>\n",
       "      <td>1.0</td>\n",
       "    </tr>\n",
       "    <tr>\n",
       "      <th>96</th>\n",
       "      <td>1.3</td>\n",
       "      <td>1.0</td>\n",
       "    </tr>\n",
       "    <tr>\n",
       "      <th>97</th>\n",
       "      <td>1.3</td>\n",
       "      <td>1.0</td>\n",
       "    </tr>\n",
       "    <tr>\n",
       "      <th>98</th>\n",
       "      <td>1.1</td>\n",
       "      <td>1.0</td>\n",
       "    </tr>\n",
       "    <tr>\n",
       "      <th>99</th>\n",
       "      <td>1.3</td>\n",
       "      <td>1.0</td>\n",
       "    </tr>\n",
       "  </tbody>\n",
       "</table>\n",
       "<p>100 rows × 2 columns</p>\n",
       "</div>"
      ],
      "text/plain": [
       "    petal width (cm)  Species\n",
       "0                0.2      0.0\n",
       "1                0.2      0.0\n",
       "2                0.2      0.0\n",
       "3                0.2      0.0\n",
       "4                0.2      0.0\n",
       "..               ...      ...\n",
       "95               1.2      1.0\n",
       "96               1.3      1.0\n",
       "97               1.3      1.0\n",
       "98               1.1      1.0\n",
       "99               1.3      1.0\n",
       "\n",
       "[100 rows x 2 columns]"
      ]
     },
     "execution_count": 87,
     "metadata": {},
     "output_type": "execute_result"
    }
   ],
   "source": [
    "data = load_iris()\n",
    "full_data = np.concatenate((data.data,data.target.reshape(-1,1)),axis=1)\n",
    "df = pd.DataFrame(full_data, columns=data.feature_names+[\"Species\"])\n",
    "df.drop(df[df['Species'] == 2].index,inplace=True)\n",
    "df.drop(['sepal length (cm)', 'sepal width (cm)', 'petal length (cm)'], axis=1, inplace=True)\n",
    "df"
   ]
  },
  {
   "cell_type": "markdown",
   "id": "95cf1a35",
   "metadata": {},
   "source": [
    "### Code from scratch for Logistic Regression "
   ]
  },
  {
   "cell_type": "code",
   "execution_count": null,
   "id": "3fd56428",
   "metadata": {},
   "outputs": [],
   "source": [
    "def gradient_descent(x,y,ecophs,learning_rate):\n",
    "    \n",
    "    m,n = x.shape\n",
    "    #Random value to weights\n",
    "    W = np.zeros(n) \n",
    "    b=0\n",
    "    for i in range(ecophs):\n",
    "        #Sigmoid Function\n",
    "        H = 1/(1+ np.exp( -(x.dot(W)+b) ))\n",
    "        #Gradient Calculation\n",
    "        dic = H - y.T\n",
    "        dic = np.reshape(dic,m)\n",
    "        dW = np.dot(x.T, dic)/m\n",
    "        db = np.sum(dic)/m\n",
    "        #Updating Weights\n",
    "        W = W - learning_rate * dW\n",
    "        b = b - learning_rate * db\n",
    "    \n",
    "    return W, b\n",
    "\n",
    "def predict(x,W,b):\n",
    "    p = 1/(1+ np.exp( -(x.dot(W)+b) )) #gives probabilistic answer\n",
    "    y = np.where( p > 0.5, 1, 0 ) # threshold is 0.5 \n",
    "    return y\n",
    "\n",
    "W,b = gradient_descent(X,y,1000,0.01)\n",
    "y_pre_Scratch = predict(X,W,b)"
   ]
  },
  {
   "cell_type": "markdown",
   "id": "cb76834a",
   "metadata": {},
   "source": [
    "### Logistic Regression using sklearn module"
   ]
  },
  {
   "cell_type": "code",
   "execution_count": null,
   "id": "d4cb2b95",
   "metadata": {},
   "outputs": [],
   "source": [
    "from sklearn.linear_model import LogisticRegression\n",
    "\n",
    "model = LogisticRegression()\n",
    "model.fit(X,y.T[0])\n",
    "y_pre_sk = model.predict(X)\n",
    "\n"
   ]
  },
  {
   "cell_type": "code",
   "execution_count": null,
   "id": "ba31bc66",
   "metadata": {},
   "outputs": [],
   "source": [
    "from sklearn.metrics import confusion_matrix, accuracy_score"
   ]
  },
  {
   "cell_type": "code",
   "execution_count": null,
   "id": "f56b7696",
   "metadata": {},
   "outputs": [],
   "source": [
    "# Confusion matrix Score of our model\n",
    "\n",
    "confusion_matrix(y, y_pre_sk)"
   ]
  },
  {
   "cell_type": "code",
   "execution_count": null,
   "id": "d522ce6d",
   "metadata": {},
   "outputs": [],
   "source": [
    "# Accuracy Score of Sklearn model\n",
    "accuracy_score(y,y_pre_sk)"
   ]
  },
  {
   "cell_type": "code",
   "execution_count": null,
   "id": "03a56b6b",
   "metadata": {},
   "outputs": [],
   "source": [
    "# Accuracy Score of our model\n",
    "accuracy_score(y,y_pre)"
   ]
  },
  {
   "cell_type": "code",
   "execution_count": null,
   "id": "a826f100",
   "metadata": {},
   "outputs": [],
   "source": []
  },
  {
   "cell_type": "markdown",
   "id": "7d8aedbf",
   "metadata": {},
   "source": [
    "## Graphs used in the Article "
   ]
  },
  {
   "cell_type": "code",
   "execution_count": 7,
   "id": "6f03b324",
   "metadata": {},
   "outputs": [
    {
     "data": {
      "text/plain": [
       "<AxesSubplot:xlabel='petal width (cm)', ylabel='Species'>"
      ]
     },
     "execution_count": 7,
     "metadata": {},
     "output_type": "execute_result"
    },
    {
     "data": {
      "image/png": "[encoded data removed]",
      "text/plain": [
       "<Figure size 432x288 with 1 Axes>"
      ]
     },
     "metadata": {
      "needs_background": "light"
     },
     "output_type": "display_data"
    }
   ],
   "source": [
    "sb.scatterplot(x=\"petal width (cm)\", y=\"Species\",data=df, hue='Species', palette=['red', 'blue'])"
   ]
  },
  {
   "cell_type": "code",
   "execution_count": 37,
   "id": "1c62b5e2",
   "metadata": {},
   "outputs": [],
   "source": [
    "X = np.array(df['petal width (cm)']).reshape(-1,1)\n",
    "y = np.array(df['Species']).reshape(-1,1)"
   ]
  },
  {
   "cell_type": "code",
   "execution_count": 38,
   "id": "dfe51e9b",
   "metadata": {},
   "outputs": [
    {
     "data": {
      "text/plain": [
       "LinearRegression()"
      ]
     },
     "execution_count": 38,
     "metadata": {},
     "output_type": "execute_result"
    }
   ],
   "source": [
    "model = LinearRegression()\n",
    "model.fit(X,y)"
   ]
  },
  {
   "cell_type": "code",
   "execution_count": 39,
   "id": "d38753f5",
   "metadata": {},
   "outputs": [],
   "source": [
    "min_y = model.predict([[min(X)[0]]])\n",
    "max_y = model.predict([[max(X)[0]]])"
   ]
  },
  {
   "cell_type": "code",
   "execution_count": 42,
   "id": "3260d352",
   "metadata": {},
   "outputs": [
    {
     "data": {
      "text/plain": [
       "[<matplotlib.lines.Line2D at 0x15b03777fd0>]"
      ]
     },
     "execution_count": 42,
     "metadata": {},
     "output_type": "execute_result"
    },
    {
     "data": {
      "image/png": "[encoded data removed]",
      "text/plain": [
       "<Figure size 432x288 with 1 Axes>"
      ]
     },
     "metadata": {
      "needs_background": "light"
     },
     "output_type": "display_data"
    }
   ],
   "source": [
    "xpoints = [min(X)[0], max(X)[0]]\n",
    "ypoints = [min_y[0][0], max_y[0][0]]\n",
    "sb.scatterplot(x=\"petal width (cm)\", y=\"Species\",data=df, hue='Species', palette=['red', 'blue'])\n",
    "plt.plot(xpoints, ypoints)"
   ]
  },
  {
   "cell_type": "code",
   "execution_count": 12,
   "id": "43b16364",
   "metadata": {},
   "outputs": [],
   "source": [
    "dt = {\"petal width (cm)\":[6.5,6.7], \"Species\":[1,1]}\n",
    "df1 = pd.DataFrame(dt)\n",
    "\n",
    "df1 = pd.concat([df,df1],ignore_index = True)"
   ]
  },
  {
   "cell_type": "code",
   "execution_count": 13,
   "id": "64ff8836",
   "metadata": {},
   "outputs": [
    {
     "data": {
      "text/html": [
       "<div>\n",
       "<style scoped>\n",
       "    .dataframe tbody tr th:only-of-type {\n",
       "        vertical-align: middle;\n",
       "    }\n",
       "\n",
       "    .dataframe tbody tr th {\n",
       "        vertical-align: top;\n",
       "    }\n",
       "\n",
       "    .dataframe thead th {\n",
       "        text-align: right;\n",
       "    }\n",
       "</style>\n",
       "<table border=\"1\" class=\"dataframe\">\n",
       "  <thead>\n",
       "    <tr style=\"text-align: right;\">\n",
       "      <th></th>\n",
       "      <th>petal width (cm)</th>\n",
       "      <th>Species</th>\n",
       "    </tr>\n",
       "  </thead>\n",
       "  <tbody>\n",
       "    <tr>\n",
       "      <th>0</th>\n",
       "      <td>0.2</td>\n",
       "      <td>0.0</td>\n",
       "    </tr>\n",
       "    <tr>\n",
       "      <th>1</th>\n",
       "      <td>0.2</td>\n",
       "      <td>0.0</td>\n",
       "    </tr>\n",
       "    <tr>\n",
       "      <th>2</th>\n",
       "      <td>0.2</td>\n",
       "      <td>0.0</td>\n",
       "    </tr>\n",
       "    <tr>\n",
       "      <th>3</th>\n",
       "      <td>0.2</td>\n",
       "      <td>0.0</td>\n",
       "    </tr>\n",
       "    <tr>\n",
       "      <th>4</th>\n",
       "      <td>0.2</td>\n",
       "      <td>0.0</td>\n",
       "    </tr>\n",
       "    <tr>\n",
       "      <th>...</th>\n",
       "      <td>...</td>\n",
       "      <td>...</td>\n",
       "    </tr>\n",
       "    <tr>\n",
       "      <th>97</th>\n",
       "      <td>1.3</td>\n",
       "      <td>1.0</td>\n",
       "    </tr>\n",
       "    <tr>\n",
       "      <th>98</th>\n",
       "      <td>1.1</td>\n",
       "      <td>1.0</td>\n",
       "    </tr>\n",
       "    <tr>\n",
       "      <th>99</th>\n",
       "      <td>1.3</td>\n",
       "      <td>1.0</td>\n",
       "    </tr>\n",
       "    <tr>\n",
       "      <th>100</th>\n",
       "      <td>6.5</td>\n",
       "      <td>1.0</td>\n",
       "    </tr>\n",
       "    <tr>\n",
       "      <th>101</th>\n",
       "      <td>6.7</td>\n",
       "      <td>1.0</td>\n",
       "    </tr>\n",
       "  </tbody>\n",
       "</table>\n",
       "<p>102 rows × 2 columns</p>\n",
       "</div>"
      ],
      "text/plain": [
       "     petal width (cm)  Species\n",
       "0                 0.2      0.0\n",
       "1                 0.2      0.0\n",
       "2                 0.2      0.0\n",
       "3                 0.2      0.0\n",
       "4                 0.2      0.0\n",
       "..                ...      ...\n",
       "97                1.3      1.0\n",
       "98                1.1      1.0\n",
       "99                1.3      1.0\n",
       "100               6.5      1.0\n",
       "101               6.7      1.0\n",
       "\n",
       "[102 rows x 2 columns]"
      ]
     },
     "execution_count": 13,
     "metadata": {},
     "output_type": "execute_result"
    }
   ],
   "source": [
    "df1"
   ]
  },
  {
   "cell_type": "code",
   "execution_count": 44,
   "id": "6ded379b",
   "metadata": {},
   "outputs": [
    {
     "data": {
      "text/plain": [
       "<AxesSubplot:xlabel='petal width (cm)', ylabel='Species'>"
      ]
     },
     "execution_count": 44,
     "metadata": {},
     "output_type": "execute_result"
    },
    {
     "data": {
      "image/png": "[encoded data removed]",
      "text/plain": [
       "<Figure size 432x288 with 1 Axes>"
      ]
     },
     "metadata": {
      "needs_background": "light"
     },
     "output_type": "display_data"
    }
   ],
   "source": [
    "sb.scatterplot(x=\"petal width (cm)\", y=\"Species\",data=df1, hue='Species', palette=['red', 'blue'])\n"
   ]
  },
  {
   "cell_type": "code",
   "execution_count": 88,
   "id": "bfa3cbbe",
   "metadata": {},
   "outputs": [
    {
     "data": {
      "text/plain": [
       "[<matplotlib.lines.Line2D at 0x15b0656a040>]"
      ]
     },
     "execution_count": 88,
     "metadata": {},
     "output_type": "execute_result"
    },
    {
     "data": {
      "image/png": "[encoded data removed]",
      "text/plain": [
       "<Figure size 432x288 with 1 Axes>"
      ]
     },
     "metadata": {
      "needs_background": "light"
     },
     "output_type": "display_data"
    }
   ],
   "source": [
    "X = np.array(df1['petal width (cm)']).reshape(-1,1)\n",
    "y = np.array(df1['Species']).reshape(-1,1)\n",
    "model = LinearRegression()\n",
    "model.fit(X,y)\n",
    "min_y = model.predict([[min(X)[0]]])\n",
    "max_y = model.predict([[max(X)[0]]])\n",
    "xpoints = [min(X)[0], max(X)[0]]\n",
    "ypoints = [min_y[0][0], max_y[0][0]]\n",
    "sb.scatterplot(x=\"petal width (cm)\", y=\"Species\",data=df1, hue='Species', palette=['red', 'blue'])\n",
    "plt.plot(xpoints, ypoints, \"g\")"
   ]
  },
  {
   "cell_type": "code",
   "execution_count": 18,
   "id": "4d7f326a",
   "metadata": {},
   "outputs": [
    {
     "data": {
      "text/plain": [
       "LogisticRegression()"
      ]
     },
     "execution_count": 18,
     "metadata": {},
     "output_type": "execute_result"
    }
   ],
   "source": [
    "X = np.array(df['petal width (cm)']).reshape(-1,1)\n",
    "y = np.array(df['Species'])\n",
    "\n",
    "model = LogisticRegression()\n",
    "model.fit(X,y)"
   ]
  },
  {
   "cell_type": "code",
   "execution_count": 31,
   "id": "d8ad2306",
   "metadata": {},
   "outputs": [],
   "source": [
    "X_new = np.linspace(0,2,1000).reshape(-1,1)\n",
    "y_pre = model.predict_proba(X_new)"
   ]
  },
  {
   "cell_type": "code",
   "execution_count": 46,
   "id": "5a31da66",
   "metadata": {},
   "outputs": [
    {
     "data": {
      "text/plain": [
       "[<matplotlib.lines.Line2D at 0x15b05316df0>]"
      ]
     },
     "execution_count": 46,
     "metadata": {},
     "output_type": "execute_result"
    },
    {
     "data": {
      "image/png": "[encoded data removed]",
      "text/plain": [
       "<Figure size 432x288 with 1 Axes>"
      ]
     },
     "metadata": {
      "needs_background": "light"
     },
     "output_type": "display_data"
    }
   ],
   "source": [
    "sb.scatterplot(x=\"petal width (cm)\", y=\"Species\",data=df, hue='Species', palette=['red', 'blue'])\n",
    "plt.plot(X_new,y_pre[:,1],\"g\")"
   ]
  }
 ],
 "metadata": {
  "kernelspec": {
   "display_name": "Python 3 (ipykernel)",
   "language": "python",
   "name": "python3"
  },
  "language_info": {
   "codemirror_mode": {
    "name": "ipython",
    "version": 3
   },
   "file_extension": ".py",
   "mimetype": "text/x-python",
   "name": "python",
   "nbconvert_exporter": "python",
   "pygments_lexer": "ipython3",
   "version": "3.9.7"
  }
 },
 "nbformat": 4,
 "nbformat_minor": 5
}
