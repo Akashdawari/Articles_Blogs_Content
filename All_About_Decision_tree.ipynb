{
 "cells": [
  {
   "cell_type": "code",
   "execution_count": 1,
   "id": "ec017d6f",
   "metadata": {},
   "outputs": [],
   "source": [
    "import pandas as pd\n",
    "import numpy as np\n",
    "from sklearn.tree import DecisionTreeClassifier, plot_tree, export_graphviz\n",
    "from sklearn.model_selection import train_test_split, GridSearchCV\n",
    "from sklearn.metrics import accuracy_score\n",
    "import matplotlib.pyplot as plt\n",
    "%matplotlib inline"
   ]
  },
  {
   "cell_type": "code",
   "execution_count": 2,
   "id": "19fab5fe",
   "metadata": {},
   "outputs": [
    {
     "data": {
      "text/html": [
       "<div>\n",
       "<style scoped>\n",
       "    .dataframe tbody tr th:only-of-type {\n",
       "        vertical-align: middle;\n",
       "    }\n",
       "\n",
       "    .dataframe tbody tr th {\n",
       "        vertical-align: top;\n",
       "    }\n",
       "\n",
       "    .dataframe thead th {\n",
       "        text-align: right;\n",
       "    }\n",
       "</style>\n",
       "<table border=\"1\" class=\"dataframe\">\n",
       "  <thead>\n",
       "    <tr style=\"text-align: right;\">\n",
       "      <th></th>\n",
       "      <th>fixed acidity</th>\n",
       "      <th>volatile acidity</th>\n",
       "      <th>citric acid</th>\n",
       "      <th>residual sugar</th>\n",
       "      <th>chlorides</th>\n",
       "      <th>free sulfur dioxide</th>\n",
       "      <th>total sulfur dioxide</th>\n",
       "      <th>density</th>\n",
       "      <th>pH</th>\n",
       "      <th>sulphates</th>\n",
       "      <th>alcohol</th>\n",
       "      <th>quality</th>\n",
       "    </tr>\n",
       "  </thead>\n",
       "  <tbody>\n",
       "    <tr>\n",
       "      <th>0</th>\n",
       "      <td>7.4</td>\n",
       "      <td>0.70</td>\n",
       "      <td>0.00</td>\n",
       "      <td>1.9</td>\n",
       "      <td>0.076</td>\n",
       "      <td>11.0</td>\n",
       "      <td>34.0</td>\n",
       "      <td>0.9978</td>\n",
       "      <td>3.51</td>\n",
       "      <td>0.56</td>\n",
       "      <td>9.4</td>\n",
       "      <td>5</td>\n",
       "    </tr>\n",
       "    <tr>\n",
       "      <th>1</th>\n",
       "      <td>7.8</td>\n",
       "      <td>0.88</td>\n",
       "      <td>0.00</td>\n",
       "      <td>2.6</td>\n",
       "      <td>0.098</td>\n",
       "      <td>25.0</td>\n",
       "      <td>67.0</td>\n",
       "      <td>0.9968</td>\n",
       "      <td>3.20</td>\n",
       "      <td>0.68</td>\n",
       "      <td>9.8</td>\n",
       "      <td>5</td>\n",
       "    </tr>\n",
       "    <tr>\n",
       "      <th>2</th>\n",
       "      <td>7.8</td>\n",
       "      <td>0.76</td>\n",
       "      <td>0.04</td>\n",
       "      <td>2.3</td>\n",
       "      <td>0.092</td>\n",
       "      <td>15.0</td>\n",
       "      <td>54.0</td>\n",
       "      <td>0.9970</td>\n",
       "      <td>3.26</td>\n",
       "      <td>0.65</td>\n",
       "      <td>9.8</td>\n",
       "      <td>5</td>\n",
       "    </tr>\n",
       "    <tr>\n",
       "      <th>3</th>\n",
       "      <td>11.2</td>\n",
       "      <td>0.28</td>\n",
       "      <td>0.56</td>\n",
       "      <td>1.9</td>\n",
       "      <td>0.075</td>\n",
       "      <td>17.0</td>\n",
       "      <td>60.0</td>\n",
       "      <td>0.9980</td>\n",
       "      <td>3.16</td>\n",
       "      <td>0.58</td>\n",
       "      <td>9.8</td>\n",
       "      <td>6</td>\n",
       "    </tr>\n",
       "    <tr>\n",
       "      <th>4</th>\n",
       "      <td>7.4</td>\n",
       "      <td>0.70</td>\n",
       "      <td>0.00</td>\n",
       "      <td>1.9</td>\n",
       "      <td>0.076</td>\n",
       "      <td>11.0</td>\n",
       "      <td>34.0</td>\n",
       "      <td>0.9978</td>\n",
       "      <td>3.51</td>\n",
       "      <td>0.56</td>\n",
       "      <td>9.4</td>\n",
       "      <td>5</td>\n",
       "    </tr>\n",
       "  </tbody>\n",
       "</table>\n",
       "</div>"
      ],
      "text/plain": [
       "   fixed acidity  volatile acidity  citric acid  residual sugar  chlorides  \\\n",
       "0            7.4              0.70         0.00             1.9      0.076   \n",
       "1            7.8              0.88         0.00             2.6      0.098   \n",
       "2            7.8              0.76         0.04             2.3      0.092   \n",
       "3           11.2              0.28         0.56             1.9      0.075   \n",
       "4            7.4              0.70         0.00             1.9      0.076   \n",
       "\n",
       "   free sulfur dioxide  total sulfur dioxide  density    pH  sulphates  \\\n",
       "0                 11.0                  34.0   0.9978  3.51       0.56   \n",
       "1                 25.0                  67.0   0.9968  3.20       0.68   \n",
       "2                 15.0                  54.0   0.9970  3.26       0.65   \n",
       "3                 17.0                  60.0   0.9980  3.16       0.58   \n",
       "4                 11.0                  34.0   0.9978  3.51       0.56   \n",
       "\n",
       "   alcohol  quality  \n",
       "0      9.4        5  \n",
       "1      9.8        5  \n",
       "2      9.8        5  \n",
       "3      9.8        6  \n",
       "4      9.4        5  "
      ]
     },
     "execution_count": 2,
     "metadata": {},
     "output_type": "execute_result"
    }
   ],
   "source": [
    "# Importing data from github \n",
    "\n",
    "data = pd.read_csv(\"https://raw.githubusercontent.com/aniruddhachoudhury/Red-Wine-Quality/master/winequality-red.csv\")\n",
    "data.head()"
   ]
  },
  {
   "cell_type": "code",
   "execution_count": 3,
   "id": "80914fb4",
   "metadata": {},
   "outputs": [
    {
     "name": "stdout",
     "output_type": "stream",
     "text": [
      "<class 'pandas.core.frame.DataFrame'>\n",
      "RangeIndex: 1599 entries, 0 to 1598\n",
      "Data columns (total 12 columns):\n",
      " #   Column                Non-Null Count  Dtype  \n",
      "---  ------                --------------  -----  \n",
      " 0   fixed acidity         1599 non-null   float64\n",
      " 1   volatile acidity      1599 non-null   float64\n",
      " 2   citric acid           1599 non-null   float64\n",
      " 3   residual sugar        1599 non-null   float64\n",
      " 4   chlorides             1599 non-null   float64\n",
      " 5   free sulfur dioxide   1599 non-null   float64\n",
      " 6   total sulfur dioxide  1599 non-null   float64\n",
      " 7   density               1599 non-null   float64\n",
      " 8   pH                    1599 non-null   float64\n",
      " 9   sulphates             1599 non-null   float64\n",
      " 10  alcohol               1599 non-null   float64\n",
      " 11  quality               1599 non-null   int64  \n",
      "dtypes: float64(11), int64(1)\n",
      "memory usage: 150.0 KB\n"
     ]
    }
   ],
   "source": [
    "data.info()"
   ]
  },
  {
   "cell_type": "markdown",
   "id": "c0fe88c6",
   "metadata": {},
   "source": [
    "As we can see there is no null values. SO, we are good to go."
   ]
  },
  {
   "cell_type": "code",
   "execution_count": 4,
   "id": "1a569cd7",
   "metadata": {},
   "outputs": [
    {
     "name": "stdout",
     "output_type": "stream",
     "text": [
      "-> fixed acidity\n",
      "-> volatile acidity\n",
      "-> citric acid\n",
      "-> residual sugar\n",
      "-> chlorides\n",
      "-> free sulfur dioxide\n",
      "-> total sulfur dioxide\n",
      "-> density\n",
      "-> pH\n",
      "-> sulphates\n",
      "-> alcohol\n"
     ]
    }
   ],
   "source": [
    "# Independent Features:\n",
    "Feature = list(data.drop([\"quality\"], axis=1).columns)\n",
    "for i in Feature:\n",
    "    print(\"-> \"+i)"
   ]
  },
  {
   "cell_type": "code",
   "execution_count": 5,
   "id": "254f344f",
   "metadata": {
    "scrolled": true
   },
   "outputs": [
    {
     "name": "stdout",
     "output_type": "stream",
     "text": [
      "total number of Categories in target feature:6\n",
      "\n",
      "\n",
      "The categories are as follows:\n",
      "-> 5\n",
      "-> 6\n",
      "-> 7\n",
      "-> 4\n",
      "-> 8\n",
      "-> 3\n"
     ]
    }
   ],
   "source": [
    "# dependent variable:\n",
    "target = list(data.quality.unique())\n",
    "print(\"total number of Categories in target feature:\"+str(len(target)))\n",
    "print(\"\\n\\nThe categories are as follows:\")\n",
    "for i in target:\n",
    "    print(\"-> \"+str(i))"
   ]
  },
  {
   "cell_type": "code",
   "execution_count": 6,
   "id": "55d3a250",
   "metadata": {},
   "outputs": [],
   "source": [
    "X = data.drop([\"quality\"], axis=1)\n",
    "y = data[[\"quality\"]]"
   ]
  },
  {
   "cell_type": "code",
   "execution_count": 7,
   "id": "a2a5c27e",
   "metadata": {},
   "outputs": [],
   "source": [
    "# Now split the training and testing data:\n",
    "\n",
    "x_train, x_test, y_train, y_test = train_test_split(X, y, test_size=0.25, random_state=333)"
   ]
  },
  {
   "cell_type": "code",
   "execution_count": 8,
   "id": "8499d362",
   "metadata": {},
   "outputs": [
    {
     "data": {
      "text/plain": [
       "DecisionTreeClassifier()"
      ]
     },
     "execution_count": 8,
     "metadata": {},
     "output_type": "execute_result"
    }
   ],
   "source": [
    "model = DecisionTreeClassifier()\n",
    "model.fit(x_train, y_train)"
   ]
  },
  {
   "cell_type": "code",
   "execution_count": 9,
   "id": "9d234721",
   "metadata": {},
   "outputs": [],
   "source": [
    "# For Visualizing the tree\n",
    "# fig = plt.figure(figsize=(50,30))\n",
    "# plot_tree(model, feature_names=Feature, fontsize=8, filled=True, )"
   ]
  },
  {
   "cell_type": "markdown",
   "id": "9007df84",
   "metadata": {},
   "source": [
    "As it clearly showing that our decision tree model is overfitting the training data. But for the sake if learing we will proof that it is overfitting the data."
   ]
  },
  {
   "cell_type": "markdown",
   "id": "90d395b7",
   "metadata": {},
   "source": [
    "To find that our model is suffering from overfitting problem we have to find the \n",
    "accuracy of training data and testing data if there is huge difference then it is overfitting"
   ]
  },
  {
   "cell_type": "code",
   "execution_count": 10,
   "id": "bf425f80",
   "metadata": {},
   "outputs": [
    {
     "name": "stdout",
     "output_type": "stream",
     "text": [
      "1.0\n"
     ]
    }
   ],
   "source": [
    "# Accuracy of training data\n",
    "y_pred_train = model.predict(x_train)\n",
    "accuracy_training = accuracy_score(y_train, y_pred_train)\n",
    "print(accuracy_training)"
   ]
  },
  {
   "cell_type": "markdown",
   "id": "afeb23ba",
   "metadata": {},
   "source": [
    "As expected we it will show 100% accuracy for training data"
   ]
  },
  {
   "cell_type": "code",
   "execution_count": 11,
   "id": "77f98f55",
   "metadata": {},
   "outputs": [
    {
     "name": "stdout",
     "output_type": "stream",
     "text": [
      "0.58\n"
     ]
    }
   ],
   "source": [
    "# Accuracy of testing data\n",
    "y_pred_test = model.predict(x_test)\n",
    "accuracy_testing = accuracy_score(y_test, y_pred_test)\n",
    "print(accuracy_testing)"
   ]
  },
  {
   "cell_type": "markdown",
   "id": "3875b12a",
   "metadata": {},
   "source": [
    "As you can see it is performing very poorly for testing data. Accuracy reduces 40% down."
   ]
  },
  {
   "cell_type": "markdown",
   "id": "860ec1d2",
   "metadata": {},
   "source": [
    "To overcome Overfitting we can tune hyperparameters.\n",
    "Lets see how????"
   ]
  },
  {
   "cell_type": "code",
   "execution_count": 12,
   "id": "fd332277",
   "metadata": {},
   "outputs": [],
   "source": [
    "# we will use GridSearch technique to find the best parameters for the model\n",
    "\n",
    "grid_param = {\n",
    "    'criterion': ['gini', 'entropy'],\n",
    "    'max_depth' : range(2,32,1),\n",
    "    'min_samples_leaf' : range(1,10,1),\n",
    "    'min_samples_split': range(2,10,1),\n",
    "    'splitter' : ['best', 'random']\n",
    "    \n",
    "}\n",
    "\n",
    "grid_search = GridSearchCV(estimator=model,\n",
    "                     param_grid=grid_param,\n",
    "                     cv=5,\n",
    "                    n_jobs =-1)"
   ]
  },
  {
   "cell_type": "code",
   "execution_count": 13,
   "id": "35331655",
   "metadata": {},
   "outputs": [],
   "source": [
    "# Use this if your system has good specification only\n",
    "# grid_search.fit(x_train,y_train)\n",
    "# best_parameters = grid_search.best_params_\n",
    "# print(best_parameters)"
   ]
  },
  {
   "cell_type": "code",
   "execution_count": 16,
   "id": "828d60c8",
   "metadata": {},
   "outputs": [
    {
     "data": {
      "text/plain": [
       "DecisionTreeClassifier(criterion='entropy', max_depth=24, splitter='random')"
      ]
     },
     "execution_count": 16,
     "metadata": {},
     "output_type": "execute_result"
    }
   ],
   "source": [
    "model = DecisionTreeClassifier(criterion = 'entropy', max_depth =24, min_samples_leaf= 1, min_samples_split= 2, splitter ='random')\n",
    "model.fit(x_train,y_train)"
   ]
  },
  {
   "cell_type": "code",
   "execution_count": 17,
   "id": "a150dbbf",
   "metadata": {},
   "outputs": [
    {
     "data": {
      "text/plain": [
       "0.6225"
      ]
     },
     "execution_count": 17,
     "metadata": {},
     "output_type": "execute_result"
    }
   ],
   "source": [
    "model.score(x_test,y_test)"
   ]
  },
  {
   "cell_type": "markdown",
   "id": "72c3a440",
   "metadata": {},
   "source": [
    "As you can observe our score is increased"
   ]
  },
  {
   "cell_type": "code",
   "execution_count": null,
   "id": "b48fe321",
   "metadata": {},
   "outputs": [],
   "source": []
  }
 ],
 "metadata": {
  "kernelspec": {
   "display_name": "Python 3 (ipykernel)",
   "language": "python",
   "name": "python3"
  },
  "language_info": {
   "codemirror_mode": {
    "name": "ipython",
    "version": 3
   },
   "file_extension": ".py",
   "mimetype": "text/x-python",
   "name": "python",
   "nbconvert_exporter": "python",
   "pygments_lexer": "ipython3",
   "version": "3.9.7"
  }
 },
 "nbformat": 4,
 "nbformat_minor": 5
}
